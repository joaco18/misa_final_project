{
 "cells": [
  {
   "cell_type": "code",
   "execution_count": 1,
   "metadata": {},
   "outputs": [],
   "source": [
    "import argparse\n",
    "import sys\n",
    "import pandas as pd\n",
    "import matplotlib.pyplot as plt\n",
    "import SimpleITK as sitk\n",
    "from tqdm import tqdm\n",
    "from pathlib import Path\n",
    "\n",
    "thispath = Path().resolve()\n",
    "base_path = thispath.parent\n",
    "sys.path.insert(0, str(base_path))\n",
    "from utils import plots\n",
    "from utils.metrics import dice_score, rel_abs_vol_dif, avd, haussdorf\n",
    "from utils.plots import plot_dice, plot_hausorf, plot_ravd, plot_avd"
   ]
  },
  {
   "cell_type": "code",
   "execution_count": null,
   "metadata": {},
   "outputs": [],
   "source": [
    "data_path = base_path / 'data'\n",
    "test_set_path = data_path / 'test_set'\n",
    "train_set_path = data_path / 'train_set'\n",
    "val_set_path = data_path / 'validation_set'\n",
    "params_path =  base_path / 'elastix' / 'parameter_maps' / 'Par0010'\n",
    "our_atlas_path = data_path / 'ibsr_atlas'\n",
    "mni_atlas_path = data_path / 'mni_atlas'"
   ]
  },
  {
   "cell_type": "code",
   "execution_count": null,
   "metadata": {},
   "outputs": [],
   "source": []
  },
  {
   "cell_type": "code",
   "execution_count": null,
   "metadata": {},
   "outputs": [],
   "source": [
    "dl_path = base_path / 'experiments/dl/segmentations'\n",
    "em_path = base_path / 'experiments/val_results/EM--tissue_models_init--atlas_after_misa/segmentations'\n",
    "ma_path = base_path / 'experiments/simple_segmenters/multi_atlas_mi/segmentations'\n",
    "t1_path = base_path / 'data/validation_set'\n",
    "\n",
    "cases = ['IBSR_11', 'IBSR_12', 'IBSR_13', 'IBSR_14', 'IBSR_17']\n",
    "fg, ax = plt.subplots(5,5, figsize=(20, 20))\n",
    "slice_n = 20\n",
    "\n",
    "for col, case in enumerate(cases):\n",
    "    \n",
    "    t1 = sitk.GetArrayFromImage(sitk.ReadImage(t1_path / case / f'{case}.nii.gz'))\n",
    "    gt = sitk.GetArrayFromImage(sitk.ReadImage(t1_path / case / f'{case}_seg.nii.gz'))\n",
    "    em = sitk.GetArrayFromImage(sitk.ReadImage(em_path / f'{case}.nii.gz'))\n",
    "    ma = sitk.GetArrayFromImage(sitk.ReadImage(ma_path / f'{case}.nii.gz'))\n",
    "    dl = sitk.GetArrayFromImage(sitk.ReadImage(dl_path / f'{case}.nii.gz'))        \n",
    "\n",
    "    ax[0, col].imshow(t1, cmap='gray')\n",
    "    ax[0, col].axis('off')\n",
    "    if col == 0:\n",
    "        ax[0, col].set_x_label('T1')\n",
    "    ax[0, col].set_title(case)\n",
    "    \n",
    "    ax[1, col].imshow(gt, cmap='viridis')\n",
    "    ax[1, col].axis('off')\n",
    "    if col == 0:\n",
    "        ax[1, col].set_x_label('Ground Truth')\n",
    "    \n",
    "    ax[2, col].imshow(em, cmap='viridis')\n",
    "    ax[2, col].axis('off')\n",
    "    if col == 0:\n",
    "        ax[2, col].set_x_label('EM-based')\n",
    "        \n",
    "    ax[3, col].imshow(ma, cmap='viridis')\n",
    "    ax[3, col].axis('off')\n",
    "    if col == 0:\n",
    "        ax[3, col].set_x_label('Multi-Atlas')\n",
    "        \n",
    "    ax[4, col].imshow(ma, cmap='viridis')\n",
    "    ax[4, col].axis('off')\n",
    "    if col == 0:\n",
    "        ax[4, col].set_x_label('Multi-Atlas')\n",
    "        \n"
   ]
  }
 ],
 "metadata": {
  "kernelspec": {
   "display_name": "misa_fp",
   "language": "python",
   "name": "python3"
  },
  "language_info": {
   "codemirror_mode": {
    "name": "ipython",
    "version": 3
   },
   "file_extension": ".py",
   "mimetype": "text/x-python",
   "name": "python",
   "nbconvert_exporter": "python",
   "pygments_lexer": "ipython3",
   "version": "3.9.13"
  },
  "orig_nbformat": 4,
  "vscode": {
   "interpreter": {
    "hash": "9b27a481e5cec23d8740a26fa95ad857da905f6a5e6500d11d5c01bcc75b8ff1"
   }
  }
 },
 "nbformat": 4,
 "nbformat_minor": 2
}
