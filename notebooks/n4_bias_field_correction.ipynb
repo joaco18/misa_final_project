{
 "cells": [
  {
   "cell_type": "code",
   "execution_count": 7,
   "metadata": {},
   "outputs": [],
   "source": [
    "import SimpleITK as sitk\n",
    "from pathlib import Path\n",
    "import numpy as np\n",
    "from tqdm import tqdm\n",
    "import matplotlib.pyplot as plt"
   ]
  },
  {
   "attachments": {},
   "cell_type": "markdown",
   "metadata": {},
   "source": [
    "### Define all necessary paths"
   ]
  },
  {
   "cell_type": "code",
   "execution_count": 2,
   "metadata": {},
   "outputs": [],
   "source": [
    "base_path = Path().resolve()\n",
    "base_path = base_path.parent\n",
    "data_path = base_path / 'data'"
   ]
  },
  {
   "attachments": {},
   "cell_type": "markdown",
   "metadata": {},
   "source": [
    "### Generate brain masks"
   ]
  },
  {
   "cell_type": "code",
   "execution_count": null,
   "metadata": {},
   "outputs": [],
   "source": [
    "# For every partition\n",
    "for partition in ['train', 'validation', 'test']:\n",
    "    # Define the right path\n",
    "    partition_path = data_path / f'{partition}_set'\n",
    "    for case_path in tqdm(partition_path.iterdir()):\n",
    "        # Load the case\n",
    "        vol_path = case_path / f'{case_path.name}.nii.gz'\n",
    "        vol = sitk.ReadImage(str(vol_path), sitk.sitkUInt8)\n",
    "\n",
    "        # Take advantage of the zero background and get the brain mask\n",
    "        brain_mask = sitk.GetArrayFromImage(vol)\n",
    "        brain_mask = np.where(brain_mask != 0, 1, 0).astype('uint8')\n",
    "\n",
    "        # Store the image correctly\n",
    "        brain_mask = sitk.GetImageFromArray(brain_mask)\n",
    "        brain_mask.SetDirection(vol.GetDirection())\n",
    "        brain_mask.SetOrigin(vol.GetOrigin())\n",
    "        brain_mask.SetSpacing(vol.GetSpacing())\n",
    "        brain_mask_path = case_path / f'{case_path.name}_brain_mask.nii.gz'\n",
    "        sitk.WriteImage(brain_mask, str(brain_mask_path))"
   ]
  },
  {
   "attachments": {},
   "cell_type": "markdown",
   "metadata": {},
   "source": [
    "### Perform N4 bias field correction"
   ]
  },
  {
   "cell_type": "code",
   "execution_count": null,
   "metadata": {},
   "outputs": [],
   "source": [
    "# Define some  configuration parameters for N4 method\n",
    "shrink_factor = 1\n",
    "number_fitting_levels = 4\n",
    "maximum_number_of_iterations = None\n",
    "\n",
    "# For all the images\n",
    "for partition in ['train', 'validation', 'test']:\n",
    "    partition_path = data_path / f'{partition}_set'\n",
    "    for case_path in tqdm(partition_path.iterdir(), total=len(list(partition_path.iterdir()))):\n",
    "\n",
    "        # Define all necessary images paths\n",
    "        vol_path = case_path / f'{case_path.name}.nii.gz'\n",
    "        mask_path = case_path / f'{case_path.name}_brain_mask.nii.gz'\n",
    "        n4_path = case_path / f'{case_path.name}_n4.nii.gz'\n",
    "        n4_path_ = case_path / f'{case_path.name}_n4_fr.nii.gz'\n",
    "        bias_field_path = case_path / f'{case_path.name}_bias_field.nii.gz'\n",
    "\n",
    "        # Read the image\n",
    "        input_image = sitk.ReadImage(str(vol_path), sitk.sitkFloat32)\n",
    "        image = input_image\n",
    "\n",
    "        # Read the brain mask\n",
    "        if mask_path.exists():\n",
    "            mask_image = sitk.ReadImage(str(mask_path), sitk.sitkUInt8)\n",
    "\n",
    "        # Perform shrinking if indicated\n",
    "        if shrink_factor > 1:\n",
    "            image = sitk.Shrink(input_image, [shrink_factor] * input_image.GetDimension())\n",
    "            mask_image = sitk.Shrink(mask_image, [shrink_factor] * input_image.GetDimension())\n",
    "\n",
    "        # Define the N4 bias field corrector\n",
    "        corrector = sitk.N4BiasFieldCorrectionImageFilter()\n",
    "\n",
    "        # Limit the maximum number of iterations if needed\n",
    "        if maximum_number_of_iterations is not None:\n",
    "            corrector.SetMaximumNumberOfIterations(\n",
    "                [int(maximum_number_of_iterations)] * number_fitting_levels)\n",
    "\n",
    "        # Run N4, get the corrected image and the bias field\n",
    "        corrected_image = corrector.Execute(image, mask_image)\n",
    "        log_bias_field = corrector.GetLogBiasFieldAsImage(input_image)\n",
    "        corrected_image_full_resolution = input_image / sitk.Exp(log_bias_field)\n",
    "        \n",
    "        # Store the results\n",
    "        sitk.WriteImage(corrected_image_full_resolution, str(n4_path))\n",
    "        sitk.WriteImage(log_bias_field, str(bias_field_path))\n",
    "        if shrink_factor > 1:\n",
    "            sitk.WriteImage(corrected_image, str(n4_path_))"
   ]
  }
 ],
 "metadata": {
  "kernelspec": {
   "display_name": "misa_fp",
   "language": "python",
   "name": "python3"
  },
  "language_info": {
   "codemirror_mode": {
    "name": "ipython",
    "version": 3
   },
   "file_extension": ".py",
   "mimetype": "text/x-python",
   "name": "python",
   "nbconvert_exporter": "python",
   "pygments_lexer": "ipython3",
   "version": "3.9.13 (main, Oct 13 2022, 21:15:33) \n[GCC 11.2.0]"
  },
  "orig_nbformat": 4,
  "vscode": {
   "interpreter": {
    "hash": "9b27a481e5cec23d8740a26fa95ad857da905f6a5e6500d11d5c01bcc75b8ff1"
   }
  }
 },
 "nbformat": 4,
 "nbformat_minor": 2
}
